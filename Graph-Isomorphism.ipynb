{
 "cells": [
  {
   "attachments": {},
   "cell_type": "markdown",
   "metadata": {},
   "source": [
    "# **GRAPH ISOMORPHISM PROBLEM**\n",
    "\n",
    "![Alt text](Images/graph-iso-pro.png)\n",
    "\n",
    "\n",
    "\n",
    "\n",
    "\n",
    "\n",
    "\n",
    "\n",
    "\n"
   ]
  },
  {
   "attachments": {},
   "cell_type": "markdown",
   "metadata": {},
   "source": [
    "#### **1. WHAT IS GRAPH ISOMORPHISM PROBLEM** ?\n",
    "\n",
    "> - The graph-isomorphism problem is the computational problem of determining whether two finite graphs are isomorphic.\n",
    "> - \n",
    "\n",
    "> - References\n",
    "<https://en.wikipedia.org/wiki/Graph_isomorphism_problem#:~:text=The%20graph%20isomorphism%20problem%20is%20the%20computational%20problem,may%20be%20in%20the%20computational%20complexity%20class%20NP-intermediate.>"
   ]
  }
 ],
 "metadata": {
  "kernelspec": {
   "display_name": "base",
   "language": "python",
   "name": "python3"
  },
  "language_info": {
   "codemirror_mode": {
    "name": "ipython",
    "version": 3
   },
   "file_extension": ".py",
   "mimetype": "text/x-python",
   "name": "python",
   "nbconvert_exporter": "python",
   "pygments_lexer": "ipython3",
   "version": "3.9.13"
  },
  "orig_nbformat": 4,
  "vscode": {
   "interpreter": {
    "hash": "0ce1ed0d6e10e38ef44b8b92e0b0e6c8f0995f62b666e2140b3b6f4e161618b3"
   }
  }
 },
 "nbformat": 4,
 "nbformat_minor": 2
}
